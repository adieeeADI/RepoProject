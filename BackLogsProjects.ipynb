{
 "cells": [
  {
   "cell_type": "code",
   "execution_count": 2,
   "id": "4f2e3660-2268-43cb-9c8c-3554b679b751",
   "metadata": {},
   "outputs": [
    {
     "ename": "IndentationError",
     "evalue": "unexpected indent (3845982973.py, line 2)",
     "output_type": "error",
     "traceback": [
      "\u001b[1;36m  Cell \u001b[1;32mIn[2], line 2\u001b[1;36m\u001b[0m\n\u001b[1;33m    row = math.ceil(len(plaintext) / col)\u001b[0m\n\u001b[1;37m    ^\u001b[0m\n\u001b[1;31mIndentationError\u001b[0m\u001b[1;31m:\u001b[0m unexpected indent\n"
     ]
    }
   ],
   "source": [
    ", col):\n",
    "    row = math.ceil(len(plaintext) / col)\n",
    "    emptycells = (row * col) - len(plaintext)\n",
    "    plaintext.extend(\"x\" * emptycells)\n",
    "\n",
    "    matrix = []\n",
    "\n",
    "    return matrix\n",
    "\n",
    "\n",
    "    kin = 0\n",
    "\n",
    "    for i in range(col):\n",
    " \n",
    "    return cipher\n",
    "\n",
    "ciphertext = encrypt(\"Hello friend\", \"retr0\")\n",
    "print(f\"ciphertext: {ciphertext}\")\n"
   ]
  },
  {
   "cell_type": "code",
   "execution_count": 4,
   "id": "9fb66227-3d52-414f-a4ea-414fb7d555dd",
   "metadata": {},
   "outputs": [
    {
     "ename": "IndentationError",
     "evalue": "unindent does not match any outer indentation level (<string>, line 10)",
     "output_type": "error",
     "traceback": [
      "\u001b[1;36m  File \u001b[1;32m<string>:10\u001b[1;36m\u001b[0m\n\u001b[1;33m    return [n, e, d]\u001b[0m\n\u001b[1;37m                    ^\u001b[0m\n\u001b[1;31mIndentationError\u001b[0m\u001b[1;31m:\u001b[0m unindent does not match any outer indentation level\n"
     ]
    }
   ],
   "source": [
    "\n",
    "\n",
    "def key_gen():\n",
    "    p = random.choice(gen_prime(100, 501))\n",
    "    q = random.choice(gen_prime(501, 1000))\n",
    ") / e\n",
    "        if int(d) == d:\n",
    "            d = int(d)\n",
    "            break\n",
    "        i += 1\n",
    "\n",
    "    return [n, e, d]\n",
    "\n",
    "\n",
    "def encrypt(m, e, n):\n",
    "    print(\"e: \", e)\n",
    "    print(\"n: \", n)\n",
    "\n",
    "    asc = [ord(i) for i in m]\n",
    "    print(f\"asc: {asc}\")\n",
    "\n",
    "    c = [(i**e) % n for i in asc]\n",
    "    print(f\"c: {c}\")\n",
    "\n",
    "def gen_prime(p, q):\n",
    "    prime = []\n",
    "    for i in range(p, q):\n",
    "        for j in range(2, i):\n",
    "   \n"
   ]
  },
  {
   "cell_type": "code",
   "execution_count": 1,
   "id": "a9e3a6d3-1d0c-4ab7-acd6-1ff4b960fd16",
   "metadata": {},
   "outputs": [
    {
     "name": "stdout",
     "output_type": "stream",
     "text": [
      "ciphertext: PBQdphlvDglwBd\n",
      "MyNameisAditya\n"
     ]
    }
   ],
   "source": [
    "\"\"\"Practical 1a: Caesar's cipher\"\"\"\n",
    "import string\n",
    "def encrypt(plaintext: str, key=3):\n",
    "    plaintext = plaintext.replace(\" \", \"\")\n",
    "    pool = (\n",
    "        list(string.ascii_lowercase) + list(string.ascii_uppercase)\n",
    "        + list(str(i) for i in range(0, 10)))\n",
    "    ciphertext = \"\"\n",
    "    for char in plaintext:\n",
    "        c = (pool.index(char) + 3) % len(pool)\n",
    "        ciphertext += pool[c]\n",
    "    return ciphertext\n",
    "def decrypt(ciphertext: str, key=3):\n",
    "    pool = (\n",
    "        list(string.ascii_lowercase) + list(string.ascii_uppercase)\n",
    "        + list(str(i) for i in range(0, 10)))\n",
    "    plaintext = \"\"\n",
    "    for char in ciphertext:\n",
    "        c = (pool.index(char) - 3) % len(pool)\n",
    "        plaintext += pool[c]\n",
    "    return plaintext\n",
    "ciphertext = encrypt(\"My Name is Aditya\")\n",
    "print(f\"ciphertext: {ciphertext}\")\n",
    "print(decrypt(ciphertext))"
   ]
  },
  {
   "cell_type": "code",
   "execution_count": 2,
   "id": "5ccfb33b-a85a-4d95-a09c-a53d84749057",
   "metadata": {},
   "outputs": [
    {
     "name": "stdout",
     "output_type": "stream",
     "text": [
      "Ciphertext: 62SSnBnTSv\n",
      "Plaintext: Helloworld\n"
     ]
    }
   ],
   "source": [
    "\"\"\"Practical 1b: Monoalphabetic ciper\"\"\"\n",
    "import string\n",
    "import random\n",
    "def generate_key():\n",
    "    pool = list(string.ascii_lowercase) + list(string.ascii_uppercase) + list(str(i) for i in range(0, 10))\n",
    "    permutated_pool = (list(string.ascii_lowercase) + list(string.ascii_uppercase) + list(str(i) for i in range(0, 10)))\n",
    "    random.shuffle(permutated_pool)\n",
    "    return dict(zip(pool, permutated_pool))    \n",
    "def encrypt(plaintext: str, key: dict):\n",
    "    plaintext = plaintext.replace(\" \", \"\")\n",
    "    ciphertext = \"\"      \n",
    "    for char in plaintext:\n",
    "        ciphertext += key[char]   \n",
    "    return ciphertext\n",
    "def decrypt(ciphertext: str, key: dict):\n",
    "    plaintext = \"\"\n",
    "    for char in ciphertext:\n",
    "        for k, v in key.items():\n",
    "            if char == v:\n",
    "                plaintext += k   \n",
    "    return plaintext\n",
    "def main():\n",
    "    key = generate_key()\n",
    "    ciphertext = encrypt(\"Helloworld\", key)\n",
    "    print(f\"Ciphertext: {ciphertext}\")\n",
    "    print(f'Plaintext: {decrypt(ciphertext, key)}')\n",
    "if __name__ == \"__main__\":\n",
    "    main()"
   ]
  },
  {
   "cell_type": "code",
   "execution_count": 3,
   "id": "50baa5a2-8168-443a-856b-d9e3964a1d20",
   "metadata": {},
   "outputs": [
    {
     "name": "stdin",
     "output_type": "stream",
     "text": [
      "Enter your message:  Hello My Name is Aditya\n",
      "Enter your key: Hello My Name is Oonkar\n"
     ]
    },
    {
     "name": "stdout",
     "output_type": "stream",
     "text": [
      "aaaaaaaaaaaaaaaaawnfzyr\n"
     ]
    }
   ],
   "source": [
    "\"\"\"Prac 2a: Vernam Cipher\"\"\"\n",
    "import string\n",
    "def encrypt(plaintext, key):\n",
    "    pool = (\n",
    "        list(string.ascii_lowercase) + list(map(str, range(0, 10)))\n",
    "        + list(string.ascii_uppercase)\n",
    "        + list(\" \"))\n",
    "    cipher = \"\"   \n",
    "    for i in range(len(plaintext)):\n",
    "        p = pool.index(plaintext[i])\n",
    "        k = pool.index(key[i])\n",
    "        c = p ^ k\n",
    "        if (c >= 26):\n",
    "            c = c - 26\n",
    "        cipher += pool[c]\n",
    "    return cipher\n",
    "plaintext = input(\"Enter your message: \")\n",
    "key = input(\"Enter your key:\")\n",
    "if len(plaintext) != len(key):\n",
    "    print(\"Plaintext and key should be of equal length!!\")\n",
    "else:\n",
    "    print(encrypt(plaintext, key))"
   ]
  },
  {
   "cell_type": "code",
   "execution_count": 4,
   "id": "9b4809e1-8d8e-4215-b40f-99a875047bd1",
   "metadata": {},
   "outputs": [
    {
     "name": "stdout",
     "output_type": "stream",
     "text": [
      "amlqhqnthylfyq\n"
     ]
    }
   ],
   "source": [
    "\"\"\"Prac 2b : Playfair Cipher\"\"\"\n",
    "import string\n",
    "def matrix(key):\n",
    "    keymat = []\n",
    "    keys = []\n",
    "    pool = [char for char in string.ascii_lowercase if char != \"j\"]\n",
    "    for i in key:\n",
    "        if i not in keys:\n",
    "            keys.append(i)\n",
    "    for j in pool:\n",
    "        if j not in keys:\n",
    "            keys.append(j)\n",
    "    # create matrix\n",
    "    for i in range(0, len(keys), 5):\n",
    "        keymat.append(keys[i : i + 5])\n",
    "    return keymat\n",
    "def diagraph(pt):\n",
    "    # add x where duplicates in a group\n",
    "    for s in range(0, len(pt) + 1, 2):\n",
    "        if s < len(pt) - 1:\n",
    "            if pt[s] == pt[s + 1]:\n",
    "                pt = pt[0 : s + 1] + \"x\" + pt[s + 1 :]\n",
    "    # add x if len of plaaintext is odd\n",
    "    if len(pt) % 2 != 0:\n",
    "        pt = pt[:] + \"x\"\n",
    "    return pt\n",
    "def getloc(char, keymatrix):\n",
    "    for i in range(5):\n",
    "        for j in range(5):\n",
    "            if keymatrix[i][j] == char:\n",
    "                return [i, j]\n",
    "def encrypt(pt, keystream):\n",
    "    keymat = matrix(keystream.lower())\n",
    "    plain = diagraph(pt.lower().replace(\" \", \"\"))\n",
    "    plain = plain.replace(\"j\", \"i\")\n",
    "    cipher = \"\"\n",
    "    i = 0\n",
    "    while i < len(plain):\n",
    "        c1 = getloc(plain[i], keymat)\n",
    "        c2 = getloc(plain[i + 1], keymat)\n",
    "        # same rows\n",
    "        if c1[0] == c2[0]:\n",
    "            row1 = c1[0]\n",
    "            col1 = (c1[1] + 1) % 5\n",
    "            row2 = c2[0]\n",
    "            col2 = (c2[1] + 1) % 5      \n",
    "        # same columns\n",
    "        elif c1[1] == c2[1]:\n",
    "            row1 = (c1[0] + 1) % 5\n",
    "            col1 = c1[1]\n",
    "            row2 = (c2[0] + 1) % 5\n",
    "            col2 = c2[1]\n",
    "        # same cols\n",
    "        elif c1[1] == c2[1]:\n",
    "            row1 = (c1[0] + 1) % 5\n",
    "            col1 = c1[1]\n",
    "            row2 = (c2[0] + 1) % 5\n",
    "            col2 = c2[1]\n",
    "        # if diff row and col\n",
    "        else:\n",
    "            row1 = c1[0]\n",
    "            col1 = c2[1]\n",
    "            row2 = c2[0]\n",
    "            col2 = c1[1]\n",
    "        cipher += keymat[row1][col1] + keymat[row2][col2]\n",
    "        i += 2\n",
    "    return cipher\n",
    "print(encrypt(\"THello My Name is\", \"Aditya\"))"
   ]
  },
  {
   "cell_type": "code",
   "execution_count": 5,
   "id": "8481f4bc-2487-47f9-9246-97289d444505",
   "metadata": {},
   "outputs": [
    {
     "name": "stdin",
     "output_type": "stream",
     "text": [
      "Enter plaintext:  My Name is Saitama\n",
      "Enter number of rails:  8\n"
     ]
    },
    {
     "name": "stdout",
     "output_type": "stream",
     "text": [
      "Mtyia amNSaa msei \n"
     ]
    }
   ],
   "source": [
    "\"\"\"Prac 3a: Railfence Cipher\"\"\"\n",
    "plaintext = input(\"Enter plaintext: \")\n",
    "rails = int(input(\"Enter number of rails: \"))\n",
    "def encrypt(pt, rails):\n",
    "    mat = [[\"\" for i in range(len(pt))] for j in range(rails)]\n",
    "    row, check = 0, 0\n",
    "    for i in range(len(pt)):\n",
    "        if check == 0:\n",
    "            if row < rails:\n",
    "                mat[row][i] = pt[i]\n",
    "                row += 1\n",
    "                if row == rails:\n",
    "                    row -= 1\n",
    "                    check = 1\n",
    "        else:\n",
    "            row -= 1\n",
    "            mat[row][i] = pt[i]\n",
    "            if row == 0:\n",
    "                check = 0\n",
    "                row += 1\n",
    "    cipher = \"\".join(\"\".join(row) for row in mat)\n",
    "    return cipher\n",
    "print(encrypt(plaintext, rails))"
   ]
  },
  {
   "cell_type": "code",
   "execution_count": 6,
   "id": "415258f3-fd01-460c-be94-a4ed5153348a",
   "metadata": {},
   "outputs": [
    {
     "name": "stdout",
     "output_type": "stream",
     "text": [
      "ciphertext: Hrfxeilelnod\n"
     ]
    }
   ],
   "source": [
    "\"\"\"Prac3b : Columnar cipher\"\"\"\n",
    "import math\n",
    "def gen_matrix(plaintext, col):\n",
    "    row = math.ceil(len(plaintext) / col)\n",
    "    emptycells = (row * col) - len(plaintext)\n",
    "    plaintext.extend(\"x\" * emptycells)\n",
    "    matrix = []\n",
    "    for i in range(0, len(plaintext), col):\n",
    "        matrix.append(plaintext[i : i + col])\n",
    "    return matrix\n",
    "def encrypt(msg, key):\n",
    "    col = len(key)\n",
    "    plaintext = list(msg.replace(\" \", \"\"))\n",
    "    matrix = gen_matrix(plaintext, col)\n",
    "    sortkeys = sorted(list(key))\n",
    "    cipher = \"\"\n",
    "    kin = 0\n",
    "    for i in range(col):\n",
    "        current_col_indx = key.index(sortkeys[kin])\n",
    "        for row in matrix:\n",
    "            cipher += row[current_col_indx]\n",
    "        kin += 1\n",
    "    return cipher\n",
    "ciphertext = encrypt(\"Hello friend\", \"Aditya\")\n",
    "print(f\"ciphertext: {ciphertext}\")"
   ]
  },
  {
   "cell_type": "code",
   "execution_count": 1,
   "id": "aa716165-a67a-4079-b7f6-5e1fe6d00503",
   "metadata": {},
   "outputs": [
    {
     "name": "stdout",
     "output_type": "stream",
     "text": [
      "plaintext: b'This ic Called as Sentence'\n",
      "Encrypted data: b't\\x04\\xbb\\x08\\xa9\\xbb#\\xad?.\\xb3\\xca\\t\\xe5\\xbde\\x18\\xcb\\xa0E/\\x84\\rs\\xbd]\\x15\\xf6\\xf3 \\xd9\\x1d'\n",
      "Decrypted data: b'This ic Called as Sentence'\n"
     ]
    }
   ],
   "source": [
    "\"\"\"Prac4a: DES Algorithm\"\"\"\n",
    "import pyDes\n",
    "data= b\"This ic Called as Sentence\"\n",
    "k = pyDes.des(b\"Decrypts\", pyDes.CBC, b\"\\0\\0\\0\\0\\0\\0\\0\\0\", pad= None, padmode= pyDes.PAD_PKCS5)\n",
    "ciphertext = k.encrypt(data)\n",
    "print(f\"plaintext: {data}\")\n",
    "print(f\"Encrypted data: {ciphertext}\")\n",
    "print(f\"Decrypted data: {k.decrypt(ciphertext)}\")\n",
    "assert k.decrypt(ciphertext) == data"
   ]
  },
  {
   "cell_type": "code",
   "execution_count": 2,
   "id": "7eb8def5-93c4-4266-9d2b-65528132c97b",
   "metadata": {},
   "outputs": [
    {
     "name": "stdout",
     "output_type": "stream",
     "text": [
      "Collecting pydes\n",
      "  Downloading pyDes-2.0.1.tar.gz (9.9 kB)\n",
      "  Installing build dependencies: started\n",
      "  Installing build dependencies: finished with status 'done'\n",
      "  Getting requirements to build wheel: started\n",
      "  Getting requirements to build wheel: finished with status 'done'\n",
      "  Preparing metadata (pyproject.toml): started\n",
      "  Preparing metadata (pyproject.toml): finished with status 'done'\n",
      "Building wheels for collected packages: pydes\n",
      "  Building wheel for pydes (pyproject.toml): started\n",
      "  Building wheel for pydes (pyproject.toml): finished with status 'done'\n",
      "  Created wheel for pydes: filename=pyDes-2.0.1-py2.py3-none-any.whl size=9569 sha256=28941a0b28f9014b38809c1e63608127b350e087821340f14ce0109eba6f1f46\n",
      "  Stored in directory: c:\\users\\adity\\appdata\\local\\pip\\cache\\wheels\\a5\\8e\\44\\944eecd718a1eec08f26a45818a0a7e25e44505fc7ff407481\n",
      "Successfully built pydes\n",
      "Installing collected packages: pydes\n",
      "Successfully installed pydes-2.0.1\n",
      "Note: you may need to restart the kernel to use updated packages.\n"
     ]
    }
   ],
   "source": [
    "pip install pyDes"
   ]
  },
  {
   "cell_type": "code",
   "execution_count": 2,
   "id": "81598e9d-1a54-4d39-9aef-303a2c979ed3",
   "metadata": {},
   "outputs": [
    {
     "name": "stdout",
     "output_type": "stream",
     "text": [
      "plaintext: this is a string\n",
      "ciphertext: b'\\xdc~\\xfeA\\x99\\x12\\x9c\\xda\\x1f\\xbe\\x06b\\xabF\\x84p'\n",
      "Decrypted plaintext: b'this is a string'\n"
     ]
    }
   ],
   "source": [
    "\"\"\"Prac4b: AES\"\"\"\n",
    "import pyaes\n",
    "KEY = b\"this_key_for_demo_purposes_only!\"\n",
    "plaintext = \"this is a string\"\n",
    "print(f\"plaintext: {plaintext}\")\n",
    "aes = pyaes.AESModeOfOperationCTR(KEY)\n",
    "ciphertext = aes.encrypt(plaintext)\n",
    "print(f\"ciphertext: {ciphertext}\")\n",
    "# the ctr mode maintains state, but as decryption requires new state to be created,\n",
    "# a new instance needs to be made\n",
    "aes = pyaes.AESModeOfOperationCTR(KEY)\n",
    "plaintext = aes.decrypt(ciphertext)\n",
    "print(f\"Decrypted plaintext: {plaintext}\")"
   ]
  },
  {
   "cell_type": "code",
   "execution_count": 3,
   "id": "6addb4d1-ca17-4d80-bb8e-8f069478d343",
   "metadata": {},
   "outputs": [
    {
     "name": "stdout",
     "output_type": "stream",
     "text": [
      "e:  3\n",
      "n:  379711\n",
      "asc: [65, 68, 73, 69]\n",
      "c: [274625, 314432, 9306, 328509]\n",
      "cipher: 񃃁񌱀⑚񐌽\n",
      "[274625, 314432, 9306, 328509]\n",
      "[65, 68, 73, 69]\n"
     ]
    },
    {
     "data": {
      "text/plain": [
       "'ADIE'"
      ]
     },
     "execution_count": 3,
     "metadata": {},
     "output_type": "execute_result"
    }
   ],
   "source": [
    "\"\"\"prac5 implement RSA algorithm\"\"\"\n",
    "import math\n",
    "import random\n",
    "def key_gen():\n",
    "    p = random.choice(gen_prime(100, 501))\n",
    "    q = random.choice(gen_prime(501, 1000))\n",
    "    n = p * q\n",
    "    phin = (p - 1) * (q - 1)\n",
    "    e = 2\n",
    "    while e < phin:\n",
    "        temp = math.gcd(e, phin)\n",
    "        if temp == 1:\n",
    "            break\n",
    "        e += 1\n",
    "    i = 1\n",
    "    while True:\n",
    "        d = ((phin * i) + 1) / e\n",
    "        if int(d) == d:\n",
    "            d = int(d)\n",
    "            break\n",
    "        i += 1\n",
    "    return [n, e, d]\n",
    "def encrypt(m, e, n):\n",
    "    print(\"e: \", e)\n",
    "    print(\"n: \", n)\n",
    "    asc = [ord(i) for i in m]\n",
    "    print(f\"asc: {asc}\")\n",
    "    c = [(i**e) % n for i in asc]\n",
    "    print(f\"c: {c}\")\n",
    "    cipher = \"\".join(chr(i) for i in c)\n",
    "    print(f\"cipher: {cipher}\")\n",
    "    return cipher\n",
    "def decrypt(c, d, n):\n",
    "    # print(c)\n",
    "    # print(d)\n",
    "    # print(n)\n",
    "    numb = [ord(i) for i in c]\n",
    "    print(numb)\n",
    "    p = [(i**d) % n for i in numb]\n",
    "    print(p)\n",
    "    plaintext = \"\".join(chr(i) for i in p)\n",
    "    return plaintext\n",
    "def gen_prime(p, q):\n",
    "    prime = []\n",
    "    for i in range(p, q):\n",
    "        for j in range(2, i):\n",
    "            if i % j == 0:\n",
    "                break\n",
    "        else:\n",
    "            prime.append(i)\n",
    "    return prime\n",
    "keys = key_gen()\n",
    "cipher = encrypt(\"ADIE\", keys[1], keys[0])\n",
    "decrypt(cipher, keys[2], keys[0])"
   ]
  },
  {
   "cell_type": "code",
   "execution_count": 4,
   "id": "1a195a64-0045-45c8-8360-d0e9892571a9",
   "metadata": {},
   "outputs": [
    {
     "name": "stdout",
     "output_type": "stream",
     "text": [
      "onkar's Key: 12\n",
      "Aditya's Key: 12\n",
      "Key Agreement Successful!\n",
      "Shared Key: 12\n"
     ]
    }
   ],
   "source": [
    "\"\"\"Prac6: Diffie-Hellman Key Agreement \"\"\"\n",
    "import random\n",
    "def diffie_hellman_key_exchange():\n",
    "    # Publicly known prime number (P) and base (G)\n",
    "    P = 23  # Prime number\n",
    "    G = 9  # Primitive root modulo P\n",
    "    # onkar's secret key (a)\n",
    "    a = random.randint(1, P - 1)\n",
    "    A = pow(G, a, P)\n",
    "    # Aditya's secret key (b)\n",
    "    b = random.randint(1, P - 1)\n",
    "    B = pow(G, b, P)\n",
    "    # Exchange public keys A and B\n",
    "    # onkar computes the shared key using Aditya's public key B\n",
    "    onkar_shared_key = pow(B, a, P)\n",
    "    # Aditya computes the shared key using onkar's public key A\n",
    "    Aditya_shared_key = pow(A, b, P)\n",
    "    return onkar_shared_key, Aditya_shared_key\n",
    "# Generate the symmetric keys for both onkar and Aditya\n",
    "onkar_key, Aditya_key = diffie_hellman_key_exchange()\n",
    "print(\"onkar's Key:\", onkar_key)\n",
    "print(\"Aditya's Key:\", Aditya_key)\n",
    "# Check if both keys are identical (which they should be)\n",
    "if onkar_key == Aditya_key:\n",
    "    print(\"Key Agreement Successful!\\nShared Key:\", onkar_key)\n",
    "else:\n",
    "    print(\"Key Agreement Failed!\")"
   ]
  },
  {
   "cell_type": "code",
   "execution_count": 5,
   "id": "0fcabac4-b410-4d2b-86ac-e7fb27328d5a",
   "metadata": {},
   "outputs": [
    {
     "name": "stdin",
     "output_type": "stream",
     "text": [
      "Enter message:  Aditya is My Name\n"
     ]
    },
    {
     "name": "stdout",
     "output_type": "stream",
     "text": [
      "Byte format digest: b'\\xe1\\xd3*\\xf8\\xf2DQ\\x98\\x805#\\x11\\xd1\\xf8\\xd2\\xe9'\n",
      "Hex format digest: e1d32af8f244519880352311d1f8d2e9\n"
     ]
    }
   ],
   "source": [
    "\"\"\"Prac7 : Message Digest(MD5) Algorithm\"\"\"\n",
    "import hashlib\n",
    "data = input(\"Enter message: \")\n",
    "result = data.encode()\n",
    "b_msg = hashlib.md5(result)\n",
    "print(\"Byte format digest:\", b_msg.digest())\n",
    "print(\"Hex format digest:\", b_msg.hexdigest())"
   ]
  },
  {
   "cell_type": "code",
   "execution_count": 1,
   "id": "68f8316a-fa13-43de-9eeb-8c989f580cc7",
   "metadata": {},
   "outputs": [
    {
     "name": "stdout",
     "output_type": "stream",
     "text": [
      "digest: b'\\x1c\\xc6Z\\xf0\\x16\\x8e\\x02\\xe5\\xdf\\xc8\\xaax\\xfa\\x9e\\xbc\\x15\\x90\\xc1\\x7fQ'\n",
      "Signature (byte format): HMZa8BaOAuXfyKp4+p68FZDBf1E=\n",
      "Signature (string format): HMZa8BaOAuXfyKp4+p68FZDBf1E=\n",
      "Generated signature: HMZa8BaOAuXfyKp4+p68FZDBf1E=\n"
     ]
    }
   ],
   "source": [
    "#prac8 HMAC-SHA1 Signature\n",
    "import hmac\n",
    "import hashlib\n",
    "import base64\n",
    "\n",
    "\n",
    "def gen_signature(key, msg):\n",
    "    k = key.encode('utf-8')\n",
    "    pt = msg.encode('utf-8')\n",
    "    hmacsha1 = hmac.new(k, pt, hashlib.sha1)\n",
    "    digest = hmacsha1.digest()\n",
    "    signature = base64.b64encode(digest).decode('utf-8')  # Decode for printing\n",
    "\n",
    "    print(\"digest:\", digest)\n",
    "    print(\"Signature (byte format):\", signature)\n",
    "    print(\"Signature (string format):\", signature)\n",
    "\n",
    "    return signature  # Added return statement\n",
    "\n",
    "\n",
    "if __name__ == \"__main__\":\n",
    "    signature = gen_signature(\"secret\", \"Hello India\")\n",
    "    print(\"Generated signature:\", signature)"
   ]
  },
  {
   "cell_type": "code",
   "execution_count": null,
   "id": "e1e1ddc8-98fb-4ccf-b9a7-c754c3de9ec3",
   "metadata": {},
   "outputs": [],
   "source": []
  },
  {
   "cell_type": "code",
   "execution_count": 9,
   "id": "892b8f2b-2858-42ee-a02c-ddcd876157bf",
   "metadata": {},
   "outputs": [
    {
     "name": "stdout",
     "output_type": "stream",
     "text": [
      "SSL Connection Established\n",
      "SSL Version: TLSv1.3\n"
     ]
    }
   ],
   "source": [
    "#prac9 implement ssl\n",
    "import ssl\n",
    "import socket\n",
    "def create_ssl_socket():\n",
    "    hostname = 'www.google.com'\n",
    "    context = ssl.create_default_context()\n",
    "    with socket.create_connection((hostname, 443)) as sock:\n",
    "        with context.wrap_socket(sock, server_hostname=hostname) as ssock:\n",
    "            print(\"SSL Connection Established\")\n",
    "            print(\"SSL Version:\", ssock.version())\n",
    "\n",
    "create_ssl_socket()"
   ]
  },
  {
   "cell_type": "code",
   "execution_count": null,
   "id": "bed0457a-8b98-4c82-ae1b-830695eccd13",
   "metadata": {},
   "outputs": [],
   "source": []
  }
 ],
 "metadata": {
  "kernelspec": {
   "display_name": "Python 3 (ipykernel)",
   "language": "python",
   "name": "python3"
  },
  "language_info": {
   "codemirror_mode": {
    "name": "ipython",
    "version": 3
   },
   "file_extension": ".py",
   "mimetype": "text/x-python",
   "name": "python",
   "nbconvert_exporter": "python",
   "pygments_lexer": "ipython3",
   "version": "3.12.6"
  }
 },
 "nbformat": 4,
 "nbformat_minor": 5
}
